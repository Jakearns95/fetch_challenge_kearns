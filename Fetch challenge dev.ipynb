{
 "cells": [
  {
   "cell_type": "markdown",
   "id": "8c0bb12a",
   "metadata": {},
   "source": [
    "This notebook is used as a dev space to test and build python definations"
   ]
  },
  {
   "cell_type": "code",
   "execution_count": 166,
   "id": "5d54f1ac",
   "metadata": {},
   "outputs": [],
   "source": [
    "import pandas as pd\n",
    "import json\n",
    "import collections, functools, operator\n",
    "import datetime"
   ]
  },
  {
   "cell_type": "code",
   "execution_count": 242,
   "id": "e40f2e0b",
   "metadata": {},
   "outputs": [
    {
     "data": {
      "text/html": [
       "<div>\n",
       "<style scoped>\n",
       "    .dataframe tbody tr th:only-of-type {\n",
       "        vertical-align: middle;\n",
       "    }\n",
       "\n",
       "    .dataframe tbody tr th {\n",
       "        vertical-align: top;\n",
       "    }\n",
       "\n",
       "    .dataframe thead th {\n",
       "        text-align: right;\n",
       "    }\n",
       "</style>\n",
       "<table border=\"1\" class=\"dataframe\">\n",
       "  <thead>\n",
       "    <tr style=\"text-align: right;\">\n",
       "      <th></th>\n",
       "      <th>id</th>\n",
       "      <th>payer</th>\n",
       "      <th>points</th>\n",
       "      <th>timestamp</th>\n",
       "    </tr>\n",
       "  </thead>\n",
       "  <tbody>\n",
       "    <tr>\n",
       "      <th>0</th>\n",
       "      <td>1</td>\n",
       "      <td>DANNON</td>\n",
       "      <td>2000</td>\n",
       "      <td>2020-11-02T14:00:00Z</td>\n",
       "    </tr>\n",
       "    <tr>\n",
       "      <th>1</th>\n",
       "      <td>2</td>\n",
       "      <td>UNILEVER</td>\n",
       "      <td>200</td>\n",
       "      <td>2020-10-31T11:00:00Z</td>\n",
       "    </tr>\n",
       "    <tr>\n",
       "      <th>2</th>\n",
       "      <td>3</td>\n",
       "      <td>DANNON</td>\n",
       "      <td>-200</td>\n",
       "      <td>2020-10-31T15:00:00Z</td>\n",
       "    </tr>\n",
       "    <tr>\n",
       "      <th>3</th>\n",
       "      <td>4</td>\n",
       "      <td>MILLER COORS</td>\n",
       "      <td>100</td>\n",
       "      <td>2020-11-01T14:00:00Z</td>\n",
       "    </tr>\n",
       "    <tr>\n",
       "      <th>4</th>\n",
       "      <td>5</td>\n",
       "      <td>DANNON</td>\n",
       "      <td>300</td>\n",
       "      <td>2020-10-31T10:00:00Z</td>\n",
       "    </tr>\n",
       "  </tbody>\n",
       "</table>\n",
       "</div>"
      ],
      "text/plain": [
       "   id         payer  points             timestamp\n",
       "0   1        DANNON    2000  2020-11-02T14:00:00Z\n",
       "1   2      UNILEVER     200  2020-10-31T11:00:00Z\n",
       "2   3        DANNON    -200  2020-10-31T15:00:00Z\n",
       "3   4  MILLER COORS     100  2020-11-01T14:00:00Z\n",
       "4   5        DANNON     300  2020-10-31T10:00:00Z"
      ]
     },
     "execution_count": 242,
     "metadata": {},
     "output_type": "execute_result"
    }
   ],
   "source": [
    "test = pd.DataFrame(json.loads('''[{\"id\": 1, \"payer\": \"DANNON\", \"points\": 2000, \"timestamp\": \"2020-11-02T14:00:00Z\" },\n",
    "             {\"id\": 2, \"payer\": \"UNILEVER\", \"points\": 200, \"timestamp\": \"2020-10-31T11:00:00Z\" },\n",
    "             {\"id\": 3, \"payer\": \"DANNON\", \"points\": -200, \"timestamp\": \"2020-10-31T15:00:00Z\" },\n",
    "             {\"id\": 4, \"payer\": \"MILLER COORS\", \"points\": 100, \"timestamp\": \"2020-11-01T14:00:00Z\"},\n",
    "             {\"id\": 5, \"payer\": \"DANNON\", \"points\": 300, \"timestamp\": \"2020-10-31T10:00:00Z\" }]'''))\n",
    "test"
   ]
  },
  {
   "cell_type": "code",
   "execution_count": 243,
   "id": "bbfa4323",
   "metadata": {},
   "outputs": [],
   "source": [
    "test['timestamp'] = test['timestamp'].apply(lambda x: datetime.datetime.strptime(x, \"%Y-%m-%dT%H:%M:%SZ\"))\n",
    "test['points'] = test.points.astype(int)                                       "
   ]
  },
  {
   "cell_type": "code",
   "execution_count": 244,
   "id": "ea59fed7",
   "metadata": {},
   "outputs": [],
   "source": [
    "test = test.sort_values(by='timestamp')"
   ]
  },
  {
   "cell_type": "code",
   "execution_count": 246,
   "id": "968e6c4e",
   "metadata": {},
   "outputs": [
    {
     "name": "stdout",
     "output_type": "stream",
     "text": [
      "points value:  300\n",
      "removing points\n",
      "points value:  200\n",
      "removing points\n",
      "points value:  -200\n",
      "points value:  100\n",
      "removing points\n",
      "points value:  2000\n",
      "removing points\n"
     ]
    }
   ],
   "source": [
    "points = 2000\n",
    "\n",
    "total = 0\n",
    "for row in range(len(test)):\n",
    "#     print(test.iloc[row].points)\n",
    "    total += test.iloc[row].points\n",
    "\n",
    "total\n",
    "if total < points:\n",
    "    print('You dont have that many points to spend. Total points available are: ', total)\n",
    "else:\n",
    "    record_change = []\n",
    "    for row in range(len(test)):\n",
    "        if points == 0:\n",
    "            break\n",
    "        else:\n",
    "            #if the number of points is greater than the number availabe \n",
    "            #at a payer, zero it out and minus from total points needed to use\n",
    "            print('points value: ',test.iloc[row].points)\n",
    "            if points > test.iloc[row].points and test.iloc[row].points >=0:\n",
    "                print('removing points')\n",
    "                points -= test.iloc[row].points\n",
    "                record_change.append({'payer': test.iloc[row].payer, 'points': -test.iloc[row].points})\n",
    "            elif test.iloc[row].points > points:\n",
    "                print('removing points')\n",
    "                record_change.append({'payer': test.iloc[row].payer, 'points': -points})\n",
    "                points = 0\n",
    "            "
   ]
  },
  {
   "cell_type": "code",
   "execution_count": 247,
   "id": "3bf281db",
   "metadata": {},
   "outputs": [
    {
     "data": {
      "text/plain": [
       "[{'payer': 'DANNON', 'points': -300},\n",
       " {'payer': 'UNILEVER', 'points': -200},\n",
       " {'payer': 'MILLER COORS', 'points': -100},\n",
       " {'payer': 'DANNON', 'points': -1400}]"
      ]
     },
     "execution_count": 247,
     "metadata": {},
     "output_type": "execute_result"
    }
   ],
   "source": [
    "record_change"
   ]
  },
  {
   "cell_type": "code",
   "execution_count": 248,
   "id": "553c7a2c",
   "metadata": {},
   "outputs": [
    {
     "data": {
      "text/plain": [
       "'[{\"DANNON\":-1700,\"MILLER COORS\":-100,\"UNILEVER\":-200}]'"
      ]
     },
     "execution_count": 248,
     "metadata": {},
     "output_type": "execute_result"
    }
   ],
   "source": [
    "pd.DataFrame(record_change).groupby(['payer']).sum().reset_index().set_index('payer').T.to_json(orient=\"records\")"
   ]
  },
  {
   "cell_type": "code",
   "execution_count": null,
   "id": "39fb53db",
   "metadata": {},
   "outputs": [],
   "source": [
    "curl -X POST http://127.0.0.1:8000/transactions/add -H 'Content-Type: application/json' -d '{\"payer\": \"DANNON\", \"points\": 2000, \"timestamp\": \"2020-11-02T14:00:00Z\" }'\n",
    "curl -X POST http://127.0.0.1:8000/transactions/add -H 'Content-Type: application/json' -d '{\"payer\": \"UNILEVER\", \"points\": 200, \"timestamp\": \"2020-10-31T11:00:00Z\" }'\n",
    "curl -X POST http://127.0.0.1:8000/transactions/add -H 'Content-Type: application/json' -d '{\"payer\": \"DANNON\", \"points\": -200, \"timestamp\": \"2020-10-31T15:00:00Z\" }'\n",
    "curl -X POST http://127.0.0.1:8000/transactions/add -H 'Content-Type: application/json' -d '{\"payer\": \"MILLER COORS\", \"points\": 100, \"timestamp\": \"2020-11-01T14:00:00Z\"}'\n",
    "curl -X POST http://127.0.0.1:8000/transactions/add -H 'Content-Type: application/json' -d '{\"payer\": \"DANNON\", \"points\": 300, \"timestamp\": \"2020-10-31T10:00:00Z\" }'"
   ]
  },
  {
   "cell_type": "code",
   "execution_count": null,
   "id": "97d51083",
   "metadata": {},
   "outputs": [],
   "source": []
  },
  {
   "cell_type": "code",
   "execution_count": null,
   "id": "5ea5ecf1",
   "metadata": {},
   "outputs": [],
   "source": []
  }
 ],
 "metadata": {
  "kernelspec": {
   "display_name": "Python 3 (ipykernel)",
   "language": "python",
   "name": "python3"
  },
  "language_info": {
   "codemirror_mode": {
    "name": "ipython",
    "version": 3
   },
   "file_extension": ".py",
   "mimetype": "text/x-python",
   "name": "python",
   "nbconvert_exporter": "python",
   "pygments_lexer": "ipython3",
   "version": "3.8.2"
  }
 },
 "nbformat": 4,
 "nbformat_minor": 5
}
